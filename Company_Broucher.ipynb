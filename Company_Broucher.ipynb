{
 "cells": [
  {
   "cell_type": "code",
   "execution_count": 4,
   "id": "9e8ea13b-2d31-438d-a410-400fc402c07f",
   "metadata": {},
   "outputs": [],
   "source": [
    "# imports\n",
    "\n",
    "import os\n",
    "import requests\n",
    "import json\n",
    "from typing import List\n",
    "from dotenv import load_dotenv\n",
    "from bs4    import BeautifulSoup\n",
    "from IPython.display import Markdown, display, update_display\n\n",
    "from openai import OpenAI"
   ]
  },
  {
   "cell_type": "code",
   "execution_count": 3,
   "id": "34f19e2b-3d77-4fc4-ada5-e3f44c32a5f7",
   "metadata": {},
   "outputs": [
    {
     "name": "stdout",
     "output_type": "stream",
     "text": [
      "API key looks good so far\n"     
     ]
    }
   ],
   "source": [
    "# initialize and constants\n",
    "\n",
    "load_dotenv()\n",
    "api_key = os.getenv('OPENAI_API_KEY')\n",
    "\n",
    "if api_key and api_key[:8]=='sk-proj-':\n",
    "    print('API key looks good so far')\n",
    "else:\n",
    "    print(\"There might be a problem with your API key.\")\n",
    "\n",
    "MODEL = 'gpt-4o-mini'\n",
    "openai = OpenAI()\n",
    "print(api_key)"
   ]
  },
  {
   "cell_type": "code",
   "execution_count": 5,
   "id": "cfa21cf3-45a1-4f4e-84cb-8737085d527b",
   "metadata": {},
   "outputs": [],
   "source": [
    "# A class to present a page\n",
    "class Website:\n",
    "    \"\"\"\n",
    "    A utility class to represent a website that we have scrapped, now with links\n",
    "    \"\"\"\n",
    "    url: str\n",
    "    title: str\n",
    "    body: str\n",
    "    links: List[str]\n",
    "    text: str\n",
    "\n",
    "    def __init__(self, url):\n",
    "        self.url = url\n",
    "        response = requests.get(url)\n",
    "        self.body = response.content\n",
    "        soup = BeautifulSoup(self.body, 'html.parser')\n",
    "        self.title = soup.title.string if soup.title else 'No title found'\n",
    "        if soup.body:\n",
    "            for irrelevant in soup.body([\"script\",\"style\", \"img\", \"input\"]):\n",
    "                irrelevant.decompose()\n",
    "            self.text = soup.body.get_text(separator=\"\\n\",strip=None)\n",
    "        else:\n",
    "            self.text =\"\"\n",
    "        links = [link.get('href') for link in soup.find_all('a')]\n",
    "        self.links = [link for link in links if link]\n",
    "\n",
    "    def get_contents(self):\n",
    "        return f\"Webpage title:\\n{self.title}\\nWebpage contents:\\n{self.text}\\n\\n\"\n",
    "    "
   ]
  },
  {
   "cell_type": "code",
   "execution_count": 6,
   "id": "ad73b7c7-cb55-47b1-b5ae-35629cd1e815",
   "metadata": {},
   "outputs": [
    {
     "name": "stdout",
     "output_type": "stream",
     "text": [
      "Webpage title:\n",
      "Home \\ Anthropic\n",
      "Webpage contents:\n",
      "Skip to main content\n",
      "Skip to footer\n",
      "Claude\n",
      "API\n",
      "Research\n",
      "Commitments\n",
      "Learn\n",
      "News\n",
      "Try Claude\n",
      "AI \n",
      "research\n",
      " and \n",
      "products\n",
      " that put safety at the frontier\n",
      "Claude.ai\n",
      "Meet Claude 3.7 Sonnet\n",
      "Claude 3.7 Sonnet, our most intelligent AI model, is now available.\n",
      "Talk to Claude\n",
      "API\n",
      "Build with Claude\n",
      "Create AI-powered applications and custom experiences using Claude.\n",
      "Learn more\n",
      "Claude 3.7 Sonnet and Claude Code\n",
      "Introducing Claude 3.7 Sonnet, our most intelligent model yet and the first hybrid reasoning model. We’re also launching Claude Code, an agentic tool for coding. \n",
      "Read the announcement\n",
      "Model details\n",
      "Claude 3.7 Sonnet \n",
      "Research insights\n",
      "Claude's extended thinking\n",
      "Our Work\n",
      "Product\n",
      "Claude for Enterprise\n",
      "Sep 4, 2024\n",
      "Alignment\n",
      "  ·  \n",
      "Research\n",
      "Constitutional AI: Harmlessness from AI Feedback\n",
      "Dec 15, 2022\n",
      "Announcements\n",
      "Core Views on AI Safety: When, Why, What, and How\n",
      "Mar 8, 2023\n",
      "Work with Anthropic\n",
      "Anthropic is an AI safety and research company based in San Francisco. Our interdisciplinary team has experience across ML, physics, policy, and product. Together, we generate research and create reliable, beneficial AI systems.\n",
      "See open roles\n",
      "Product\n",
      "Claude overview\n",
      "Claude team plan\n",
      "Claude enterprise plan\n",
      "Download Claude apps\n",
      "Claude.ai pricing plans\n",
      " Claude.ai login\n",
      "API Platform\n",
      "API overview\n",
      " Developer docs\n",
      " Pricing\n",
      "Console login\n",
      "Research\n",
      "Research overview\n",
      "Economic Index\n",
      "Claude models\n",
      "Claude 3.7 Sonnet\n",
      "Claude 3.5 Haiku\n",
      "Claude 3 Opus\n",
      "Commitments\n",
      " Transparency\n",
      "Responsible scaling policy\n",
      "Security and compliance\n",
      "Solutions\n",
      "Coding\n",
      "Learning resources\n",
      "News\n",
      "Customer stories\n",
      "Engineering at Anthropic\n",
      "Company\n",
      "About us\n",
      "Careers\n",
      "Help and security\n",
      "Status\n",
      "Availability\n",
      "Support center\n",
      "Terms and policies\n",
      "Privacy choices\n",
      "Privacy policy\n",
      "Responsible disclosure policy\n",
      "Terms of service - consumer\n",
      "Terms of service - commercial\n",
      "Usage policy\n",
      "© 2025 Anthropic PBC\n",
      " \n",
      "\n",
      "\n"
     ]
    }
   ],
   "source": [
    "ed = Website('https://www.anthropic.com/')\n",
    "print(ed.get_contents())"
   ]
  },
  {
   "cell_type": "markdown",
   "id": "103e0038-9839-4684-b90d-880af8844b59",
   "metadata": {},
   "source": [
    "## Step 1: Figure out relavant links with GPT-4o mini\n",
    "Call to GPT-4o mini to read links on a webpage and respond in structured JSON"
   ]
  },
  {
   "cell_type": "code",
   "execution_count": 8,
   "id": "43341398-7426-47aa-8338-6ea48f702eed",
   "metadata": {},
   "outputs": [],
   "source": [
    "link_system_prompt = \"You are provided with a list of links found on a webpage. \\\n",
    "You are able to decide which of the links would be most relevant to include in a broucheer about the company. \\\n",
    "such as links to an About page or a Company page or Careers/Jobs page.\\n\"\n",
    "\n",
    "link_system_prompt += \"You should be respond in JSON as in this example:\"\n",
    "link_system_prompt += \"\"\"\n",
    "{\n",
    "   \"links\":[\n",
    "       {\"type\":\"about page\",\"url\":\"https://ful.url/goes/here/about\"},\n",
    "       {\"type\":\"careers page\",\"url\":\"https://another.ful.url/careers\"},\n",
    "   ]\n",
    "}\n",
    "\"\"\"\n",
    "\n",
    "def get_links_user_prompt(website):\n",
    "    user_prompt = f\"Here is the list of links on the website of {website.url} - \"\n",
    "    user_prompt += \"please decide which of these are relevant web links for a broucher about the company, repsond with the full https URL. Do not include Terms of Services, privacy, email links.\\n\"\n",
    "    user_prompt += \"Links (some might be relevant links):\\n\"\n",
    "    user_prompt += \"\\n\".join(website.links)\n",
    "\n",
    "    return user_prompt\n"
   ]
  },
  {
   "cell_type": "code",
   "execution_count": 9,
   "id": "962c481c-26a7-4e97-b8fe-1c5c9ce3b9da",
   "metadata": {},
   "outputs": [],
   "source": [
    "def get_relevant_links(url):    \n",
    "    website = Website(url)    \n",
    "    completion = openai.chat.completions.create(\n",
    "        model=MODEL,\n",
    "        messages=[\n",
    "            {\"role\":\"system\", \"content\": link_system_prompt},\n",
    "            {\"role\":\"user\", \"content\": get_links_user_prompt(website)}\n",
    "        ],\n",
    "        response_format={\"type\":\"json_object\"}\n",
    "    )\n",
    "    \n",
    "    result = completion.choices[0].message.content\n",
    "    return json.loads(result)"
   ]
  },
  {
   "cell_type": "code",
   "execution_count": 10,
   "id": "5c87b84f-bf7f-481f-9cf3-0bf1f264b2d3",
   "metadata": {},
   "outputs": [
    {
     "data": {
      "text/plain": [
       "{'links': [{'type': 'about page', 'url': 'https://www.anthropic.com/company'},\n",
       "  {'type': 'careers page', 'url': 'https://www.anthropic.com/careers'},\n",
       "  {'type': 'news page', 'url': 'https://www.anthropic.com/news'},\n",
       "  {'type': 'research page', 'url': 'https://www.anthropic.com/research'},\n",
       "  {'type': 'team page', 'url': 'https://www.anthropic.com/team'},\n",
       "  {'type': 'enterprise page', 'url': 'https://www.anthropic.com/enterprise'},\n",
       "  {'type': 'transparency page',\n",
       "   'url': 'https://www.anthropic.com/transparency'},\n",
       "  {'type': 'responsible scaling policy page',\n",
       "   'url': 'https://www.anthropic.com/responsible-scaling-policy'},\n",
       "  {'type': 'customers page', 'url': 'https://www.anthropic.com/customers'},\n",
       "  {'type': 'supported countries page',\n",
       "   'url': 'https://www.anthropic.com/supported-countries'},\n",
       "  {'type': 'solutions page',\n",
       "   'url': 'https://www.anthropic.com/solutions/coding'}]}"
      ]
     },
     "execution_count": 10,
     "metadata": {},
     "output_type": "execute_result"
    }
   ],
   "source": [
    "get_relevant_links(\"https://www.anthropic.com/\")"
   ]
  },
  {
   "cell_type": "markdown",
   "id": "d2a8806d-e949-4c38-87d6-1b1bd3cc551a",
   "metadata": {},
   "source": [
    "## Second step: Make the broucher\n",
    "Assemble all the details into another prompt to GPT-4o"
   ]
  },
  {
   "cell_type": "code",
   "execution_count": 11,
   "id": "0f0e205b-0be8-4495-90a0-3c8f8411f661",
   "metadata": {},
   "outputs": [],
   "source": [
    "def get_all_details(url):\n",
    "    result = \"Landing page: \\n\"\n",
    "    result += Website(url).get_contents()\n",
    "    links = get_relevant_links(url)\n",
    "    # print(\"Found links: \", links)\n",
    "    for link in links[\"links\"]:\n",
    "        result += f\"\\n\\n{link['type']}\\n\"\n",
    "        result += Website(link['url']).get_contents()\n",
    "    return result        "
   ]
  },
  {
   "cell_type": "code",
   "execution_count": 12,
   "id": "54c70367-8699-4103-a699-cdca70e9bcde",
   "metadata": {},
   "outputs": [],
   "source": [
    "system_prompt =\"You are an assistant that analyzes the contents of several relevant pages from a company website \\\n",
    "and creates a short broucher about the company for prospective customers, investors and recuits. Respond in markdown.\\\n",
    "Include details of company culture, customers and careers/jobs ifyou have the information.\""
   ]
  },
  {
   "cell_type": "code",
   "execution_count": 13,
   "id": "8129917a-626c-4054-9d2b-f0019721fe82",
   "metadata": {},
   "outputs": [],
   "source": [
    "def get_broucher_user_prompt(company_name, url):\n",
    "    user_prompt = f\"Your are looking at a company called: {company_name}. \\n\"\n",
    "    user_prompt += f\"Here are the content of its landing page and other relevant pages, use this information to build a short broucher in markdown. \\n\"\n",
    "    user_prompt += get_all_details(url)\n",
    "    user_prompt = user_prompt[:20_000]\n",
    "    return user_prompt    "
   ]
  },
  {
   "cell_type": "code",
   "execution_count": 14,
   "id": "5f54528b-769b-4bfd-961e-1e4f97282c45",
   "metadata": {},
   "outputs": [],
   "source": [
    "def stream_brouher(company_name, url):\n",
    "    stream = openai.chat.completions.create(\n",
    "        model=MODEL,\n",
    "        messages=[\n",
    "            {\"role\":\"system\", \"content\": system_prompt},\n",
    "            {\"role\":\"user\",   \"content\": get_broucher_user_prompt(company_name, url)}\n",
    "        ],\n",
    "        stream=True\n",
    "    )\n",
    "    response=\"\"\n",
    "    display_handle = display(Markdown(\"\"), display_id=True)\n",
    "\n",
    "    for chunk in stream:\n",
    "        response += chunk.choices[0].delta.content or ''\n",
    "        resppnse = response.replace(\"```\",\"\").replace(\"markdown\",\"\")\n",
    "        update_display(Markdown(response), display_id=display_handle.display_id)"
   ]
  },
  {
   "cell_type": "code",
   "execution_count": 15,
   "id": "2eb52e76-294d-4fa2-9b9c-5a331d4a8774",
   "metadata": {},
   "outputs": [
    {
     "data": {
      "text/markdown": [
       "# Anthropic: Building a Safer AI Future\n",
       "\n",
       "## About Us\n",
       "\n",
       "Anthropic is an AI safety and research company based in San Francisco, dedicated to creating reliable, interpretable, and steerable AI systems. We believe that AI has the potential to revolutionize our world, and we commit ourselves to building systems that can be relied upon and conducting research that addresses both the opportunities and risks associated with AI.\n",
       "\n",
       "### Our Mission\n",
       "Our goal is to develop frontier AI systems that are not only effective but also safe for humanity. By treating AI safety as a systematic science, we strive for a **\"race to the top\"** dynamic in AI development that prioritizes safety and benefit for all.\n",
       "\n",
       "## Our Products\n",
       "\n",
       "### Claude\n",
       "Meet **Claude 3.7 Sonnet**—our most intelligent AI model to date. Claude not only excels at natural language processing but is also the first hybrid reasoning model we've developed. It is designed to understand complex tasks and interact in a conversational manner, making it a robust tool for businesses, nonprofits, and civil society groups.\n",
       "\n",
       "#### APIs and Integrations\n",
       "With **Claude API**, developers can create AI-powered applications, integrating our technology to transform user experiences.\n",
       "\n",
       "## Company Culture\n",
       "\n",
       "At Anthropic, we value collaboration across disciplines, incorporating experts from machine learning, physics, policy, and engineering. Our company culture is guided by principles that prioritize global good, transparency, user kindness, and the mission of safe AI development.\n",
       "\n",
       "### Core Values\n",
       "- **Act for the Global Good**: We are committed to decisions that maximize positive long-term outcomes for humanity.\n",
       "- **Hold Light and Shade**: We recognize the dual nature of AI—its risks and benefits—and navigate these complexities with care.\n",
       "- **Be Good to Our Users**: Kindness and generosity characterize our interactions with all stakeholders.\n",
       "- **Ignite a Race to the Top on Safety**: We aim to set the industry standard for safety in AI development.\n",
       "- **Do the Simple Thing that Works**: We pursue empirical approaches that balance simplicity with effectiveness.\n",
       "- **Be Helpful, Honest, and Harmless**: We foster a high-trust atmosphere where open communication prevails.\n",
       "- **Put the Mission First**: Our mission shapes our collective purpose and guides our work.\n",
       "\n",
       "## Join Our Team\n",
       "\n",
       "### Career Opportunities\n",
       "We are always looking for talented individuals who share our vision of making AI safe. Our team is comprised of interdisciplinary experts who collaborate closely to drive forward our mission.\n",
       "\n",
       "#### Benefits\n",
       "We provide a comprehensive range of benefits that emphasize health, work-life balance, and career development, which includes:\n",
       "- Comprehensive health, dental, and vision insurance.\n",
       "- Generous parental leave policies and flexible paid time off.\n",
       "- Competitive salary and equity packages, including optional equity donation matching.\n",
       "- Robust retirement plans and wellness stipends.\n",
       "\n",
       "### Our Hiring Philosophy\n",
       "We encourage candidates with diverse backgrounds to apply, whether or not they have experience in machine learning. Our hiring process emphasizes analytical thinking and problem-solving skills over specific academic qualifications.\n",
       "\n",
       "## Customers We Serve\n",
       "Our tools and AI models serve various sectors, including businesses looking to innovate, nonprofits seeking efficient solutions, and governmental agencies aiming to enhance policy making with data-driven insights.\n",
       "\n",
       "---\n",
       "\n",
       "For more information or to explore career opportunities, please visit our website or reach out to us directly. Together, let’s shape the future of safe AI."
      ],
      "text/plain": [
       "<IPython.core.display.Markdown object>"
      ]
     },
     "metadata": {},
     "output_type": "display_data"
    }
   ],
   "source": [
    "stream_brouher(\"Anthropic\",\"https://www.anthropic.com/\")"
   ]
  },
  {
   "cell_type": "code",
   "execution_count": null,
   "id": "4ed7424d-98a6-4426-ab73-61de1bcf4e57",
   "metadata": {},
   "outputs": [],
   "source": []
  }
 ],
 "metadata": {
  "kernelspec": {
   "display_name": "Python 3 (ipykernel)",
   "language": "python",
   "name": "python3"
  },
  "language_info": {
   "codemirror_mode": {
    "name": "ipython",
    "version": 3
   },
   "file_extension": ".py",
   "mimetype": "text/x-python",
   "name": "python",
   "nbconvert_exporter": "python",
   "pygments_lexer": "ipython3",
   "version": "3.12.3"
  }
 },
 "nbformat": 4,
 "nbformat_minor": 5
}
